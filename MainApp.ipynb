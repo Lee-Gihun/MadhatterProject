{
 "cells": [
  {
   "cell_type": "code",
   "execution_count": 2,
   "metadata": {},
   "outputs": [],
   "source": [
    "from Models.DataCollector import DataCollector"
   ]
  },
  {
   "cell_type": "code",
   "execution_count": 4,
   "metadata": {},
   "outputs": [],
   "source": [
    "class UserInspector(DataCollector):\n",
    "    def __init__(self):\n",
    "        self.name_to_key = {}\n",
    "        self.name_to_id = {}\n",
    "        self.id_to_key = {}\n",
    "        self.key_to_id = {}\n",
    "        with open('./metadata/name_to_key.json', 'r') as fp:\n",
    "            self.name_to_key = json.load(fp)\n",
    "\n",
    "        with open('./metadata/name_to_id.json', 'r') as fp:\n",
    "            self.name_to_id = json.load(fp)\n",
    "\n",
    "        with open('./metadata/id_to_key.json', 'r') as fp:\n",
    "            self.id_to_key = json.load(fp)\n",
    "\n",
    "        with open('./metadata/key_to_id.json', 'r') as fp:\n",
    "            self.key_to_id = json.load(fp)\n",
    "\n",
    "    def user_history_collector(self, userName):\n",
    "        # url encoding (for Korean words)\n",
    "        userName = parse.quote(userName)\n",
    "\n",
    "        # open url and create bs4 Object\n",
    "        html = urlopen(\"https://www.op.gg/summoner/userName=\"+userName)\n",
    "        bsObject = BeautifulSoup(html, \"html.parser\")\n",
    "\n",
    "        # decode userName from url encoding\n",
    "        userName = parse.unquote(userName)\n",
    "\n",
    "        # win/loss and play count\n",
    "        wins = int(bsObject.find('span', 'wins').text[:-1])\n",
    "        losses = int(bsObject.find('span', 'losses').text[:-1])\n",
    "        total_play = wins + losses    \n",
    "        win_rate = round(wins/total_play, 3)\n",
    "\n",
    "        champ_list = bsObject.find_all(\"div\", {'class' : 'ChampionBox Ranked'})\n",
    "        champion_history = self.champ_history_setter(champ_list)            \n",
    "\n",
    "        # this is (adapted) user_history DTO\n",
    "        user_historyDTO = {\n",
    "            'user_name' : userName,\n",
    "            'total_play' : total_play,\n",
    "            'win_rate' : win_rate,\n",
    "            'champion_history' : champion_history,\n",
    "        }\n",
    "        return user_historyDTO"
   ]
  },
  {
   "cell_type": "code",
   "execution_count": 12,
   "metadata": {},
   "outputs": [
    {
     "name": "stdout",
     "output_type": "stream",
     "text": [
      "Not a valid user\n",
      "{'user_name': '만년동 핵폭탄', 'total_play': 134, 'win_rate': 0.403, 'champion_history': [{'champion_key': 86, 'champion_id': 'Garen', 'play_count': 59, 'win_rate': 0.49}, {'champion_key': 126, 'champion_id': 'Jayce', 'play_count': 21, 'win_rate': 0.38}, {'champion_key': 85, 'champion_id': 'Kennen', 'play_count': 13, 'win_rate': 0.31}, {'champion_key': 80, 'champion_id': 'Pantheon', 'play_count': 11, 'win_rate': 0.27}, {'champion_key': 24, 'champion_id': 'Jax', 'play_count': 7, 'win_rate': 0.29}, {'champion_key': 99, 'champion_id': 'Lux', 'play_count': 5, 'win_rate': 0.2}, {'champion_key': 122, 'champion_id': 'Darius', 'play_count': 5, 'win_rate': 0.2}]}\n"
     ]
    }
   ],
   "source": [
    "test = UserInspector()\n",
    "try:\n",
    "    test_data = test.user_history_collector('이문용')\n",
    "except:\n",
    "    print('Not a valid user')\n",
    "\n",
    "try:\n",
    "    test_data = test.user_history_collector('만년동 핵폭탄')\n",
    "except:\n",
    "    print('Not a valid user')\n",
    "print(test_data)"
   ]
  },
  {
   "cell_type": "code",
   "execution_count": 13,
   "metadata": {},
   "outputs": [],
   "source": [
    "from vector_generator import UserVectorGenerator"
   ]
  },
  {
   "cell_type": "code",
   "execution_count": 14,
   "metadata": {},
   "outputs": [],
   "source": [
    "UVG = UserVectorGenerator('./data_batch/userbatch.json', mode=2)"
   ]
  },
  {
   "cell_type": "code",
   "execution_count": 19,
   "metadata": {},
   "outputs": [],
   "source": [
    "user_idf_table = {}\n",
    "for i, item in enumerate(UVG.idf_table):\n",
    "    user_idf_table[i] = item"
   ]
  },
  {
   "cell_type": "code",
   "execution_count": null,
   "metadata": {},
   "outputs": [],
   "source": [
    "import json\n",
    "\n",
    "with open('./metadata/userson'.format(self.batch_index) , 'w') as fp:\n",
    "                    json.dump(self.data, fp)"
   ]
  }
 ],
 "metadata": {
  "kernelspec": {
   "display_name": "Python 3",
   "language": "python",
   "name": "python3"
  },
  "language_info": {
   "codemirror_mode": {
    "name": "ipython",
    "version": 3
   },
   "file_extension": ".py",
   "mimetype": "text/x-python",
   "name": "python",
   "nbconvert_exporter": "python",
   "pygments_lexer": "ipython3",
   "version": "3.7.3"
  }
 },
 "nbformat": 4,
 "nbformat_minor": 2
}
