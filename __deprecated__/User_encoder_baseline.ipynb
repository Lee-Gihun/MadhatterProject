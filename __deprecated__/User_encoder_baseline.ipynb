{
 "cells": [
  {
   "cell_type": "code",
   "execution_count": 1,
   "metadata": {},
   "outputs": [],
   "source": [
    "import torch\n",
    "import torch.nn as nn\n",
    "import torch.nn.functional as F\n",
    "import torch.optim as optim\n",
    "import torch.optim.lr_scheduler as scheduler\n",
    "from torch.utils.data import DataLoader, Dataset\n",
    "import json\n",
    "from Models.Models import AutoEncoder"
   ]
  },
  {
   "cell_type": "code",
   "execution_count": 2,
   "metadata": {},
   "outputs": [],
   "source": [
    "class VectorDataset(Dataset):\n",
    "    \"\"\"\n",
    "    reads user or item vector datasets\n",
    "    \"\"\"\n",
    "    def __init__(self, file_path):\n",
    "        with open(file_path, 'r') as fp:\n",
    "            self.data = json.load(fp)\n",
    "            self.key = list(self.data.keys())\n",
    "            \n",
    "    def __getitem__(self, index):\n",
    "        data = self.data[self.key[index]]\n",
    "        data1 = torch.Tensor(data[:143])\n",
    "        data1 = self.normalize_data(data1)\n",
    "        #data2 = torch.Tensor(data[143:])\n",
    "        #data2 = self.normalize_data(data2)\n",
    "        #data = torch.cat((data1, data2))\n",
    "        return data1\n",
    "    \n",
    "    def normalize_data(self, data):\n",
    "        data = F.normalize(data, dim=0)\n",
    "        return data\n",
    "        \n",
    "    def __len__(self):\n",
    "        data_len = len(self.key)\n",
    "        return data_len"
   ]
  },
  {
   "cell_type": "code",
   "execution_count": 3,
   "metadata": {},
   "outputs": [],
   "source": [
    "test = VectorDataset('./datasets/user_vectors_tf_idf.json')"
   ]
  },
  {
   "cell_type": "code",
   "execution_count": null,
   "metadata": {},
   "outputs": [],
   "source": [
    "num_epochs = 4000\n",
    "batch_size = 19000\n",
    "learning_rate = 0.1\n",
    "device = torch.device(\"cuda:1\" if torch.cuda.is_available() else \"cpu\")\n",
    "\n",
    "dataset = test\n",
    "dataloader = DataLoader(dataset, batch_size=batch_size, shuffle=True, pin_memory=True, num_workers=4)\n",
    "\n",
    "model = AutoEncoder(input_len=143, hidden_unit=12).to(device)\n",
    "criterion = nn.SmoothL1Loss()\n",
    "optimizer = optim.SGD(model.parameters(), lr=learning_rate, weight_decay=1e-5)\n",
    "scheduler = scheduler.MultiStepLR(optimizer, [1000, 2000, 3000], gamma=0.25)\n",
    "\n",
    "loss = []\n",
    "\n",
    "for epoch in range(num_epochs):\n",
    "    running_loss = 0.0\n",
    "    for data in dataloader:\n",
    "        scheduler.step()\n",
    "        data = data.to(device)\n",
    "        # ===================forward=====================\n",
    "        output = model(data)\n",
    "        loss = criterion(output, data)\n",
    "        # ===================backward====================\n",
    "        optimizer.zero_grad()\n",
    "        loss.backward()\n",
    "        optimizer.step()\n",
    "        running_loss += loss.item()\n",
    "    # ===================log========================\n",
    "    print('epoch [{}/{}], loss:{:.8f}'\n",
    "          .format(epoch + 1, num_epochs, running_loss/19000))\n",
    "    #if epoch % 100 == 0:\n",
    "    #    print(\"check\")\n",
    "\n",
    "#torch.save(model.state_dict(), './sim_autoencoder.pth')"
   ]
  },
  {
   "cell_type": "code",
   "execution_count": 6,
   "metadata": {},
   "outputs": [],
   "source": [
    "torch.save(model.state_dict(), './trained_model/user_encoder_baseline.pth')"
   ]
  },
  {
   "cell_type": "code",
   "execution_count": null,
   "metadata": {},
   "outputs": [],
   "source": []
  }
 ],
 "metadata": {
  "kernelspec": {
   "display_name": "Python 3",
   "language": "python",
   "name": "python3"
  },
  "language_info": {
   "codemirror_mode": {
    "name": "ipython",
    "version": 3
   },
   "file_extension": ".py",
   "mimetype": "text/x-python",
   "name": "python",
   "nbconvert_exporter": "python",
   "pygments_lexer": "ipython3",
   "version": "3.7.3"
  }
 },
 "nbformat": 4,
 "nbformat_minor": 2
}
